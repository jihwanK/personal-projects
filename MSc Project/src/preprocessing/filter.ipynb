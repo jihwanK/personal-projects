{
 "cells": [
  {
   "cell_type": "code",
   "execution_count": 1,
   "metadata": {},
   "outputs": [],
   "source": [
    "import os\n",
    "import pandas as pd\n",
    "import numpy as np"
   ]
  },
  {
   "cell_type": "code",
   "execution_count": 11,
   "metadata": {},
   "outputs": [
    {
     "data": {
      "text/html": [
       "<div>\n",
       "<style scoped>\n",
       "    .dataframe tbody tr th:only-of-type {\n",
       "        vertical-align: middle;\n",
       "    }\n",
       "\n",
       "    .dataframe tbody tr th {\n",
       "        vertical-align: top;\n",
       "    }\n",
       "\n",
       "    .dataframe thead th {\n",
       "        text-align: right;\n",
       "    }\n",
       "</style>\n",
       "<table border=\"1\" class=\"dataframe\">\n",
       "  <thead>\n",
       "    <tr style=\"text-align: right;\">\n",
       "      <th></th>\n",
       "      <th>title</th>\n",
       "      <th>abstract</th>\n",
       "      <th>keyword</th>\n",
       "      <th>domain</th>\n",
       "    </tr>\n",
       "  </thead>\n",
       "  <tbody>\n",
       "    <tr>\n",
       "      <th>0</th>\n",
       "      <td>0.611711</td>\n",
       "      <td>0.292500</td>\n",
       "      <td>0.393569</td>\n",
       "      <td>0.997134</td>\n",
       "    </tr>\n",
       "    <tr>\n",
       "      <th>1</th>\n",
       "      <td>0.688125</td>\n",
       "      <td>0.228142</td>\n",
       "      <td>0.206670</td>\n",
       "      <td>0.991341</td>\n",
       "    </tr>\n",
       "    <tr>\n",
       "      <th>2</th>\n",
       "      <td>0.484088</td>\n",
       "      <td>0.328195</td>\n",
       "      <td>0.676533</td>\n",
       "      <td>0.996584</td>\n",
       "    </tr>\n",
       "    <tr>\n",
       "      <th>3</th>\n",
       "      <td>0.445873</td>\n",
       "      <td>0.584870</td>\n",
       "      <td>0.829723</td>\n",
       "      <td>0.998107</td>\n",
       "    </tr>\n",
       "    <tr>\n",
       "      <th>4</th>\n",
       "      <td>0.617348</td>\n",
       "      <td>0.395976</td>\n",
       "      <td>0.591966</td>\n",
       "      <td>0.992278</td>\n",
       "    </tr>\n",
       "    <tr>\n",
       "      <th>...</th>\n",
       "      <td>...</td>\n",
       "      <td>...</td>\n",
       "      <td>...</td>\n",
       "      <td>...</td>\n",
       "    </tr>\n",
       "    <tr>\n",
       "      <th>1408516</th>\n",
       "      <td>0.657276</td>\n",
       "      <td>0.562673</td>\n",
       "      <td>0.793045</td>\n",
       "      <td>0.995755</td>\n",
       "    </tr>\n",
       "    <tr>\n",
       "      <th>1408517</th>\n",
       "      <td>0.679655</td>\n",
       "      <td>0.712230</td>\n",
       "      <td>0.718943</td>\n",
       "      <td>0.996524</td>\n",
       "    </tr>\n",
       "    <tr>\n",
       "      <th>1408518</th>\n",
       "      <td>0.417301</td>\n",
       "      <td>0.517800</td>\n",
       "      <td>0.614112</td>\n",
       "      <td>0.995322</td>\n",
       "    </tr>\n",
       "    <tr>\n",
       "      <th>1408519</th>\n",
       "      <td>0.444667</td>\n",
       "      <td>0.654007</td>\n",
       "      <td>0.800967</td>\n",
       "      <td>0.997159</td>\n",
       "    </tr>\n",
       "    <tr>\n",
       "      <th>1408520</th>\n",
       "      <td>0.719085</td>\n",
       "      <td>0.497386</td>\n",
       "      <td>0.779455</td>\n",
       "      <td>0.998603</td>\n",
       "    </tr>\n",
       "  </tbody>\n",
       "</table>\n",
       "<p>1408521 rows × 4 columns</p>\n",
       "</div>"
      ],
      "text/plain": [
       "            title  abstract   keyword    domain\n",
       "0        0.611711  0.292500  0.393569  0.997134\n",
       "1        0.688125  0.228142  0.206670  0.991341\n",
       "2        0.484088  0.328195  0.676533  0.996584\n",
       "3        0.445873  0.584870  0.829723  0.998107\n",
       "4        0.617348  0.395976  0.591966  0.992278\n",
       "...           ...       ...       ...       ...\n",
       "1408516  0.657276  0.562673  0.793045  0.995755\n",
       "1408517  0.679655  0.712230  0.718943  0.996524\n",
       "1408518  0.417301  0.517800  0.614112  0.995322\n",
       "1408519  0.444667  0.654007  0.800967  0.997159\n",
       "1408520  0.719085  0.497386  0.779455  0.998603\n",
       "\n",
       "[1408521 rows x 4 columns]"
      ]
     },
     "execution_count": 11,
     "metadata": {},
     "output_type": "execute_result"
    }
   ],
   "source": [
    "df = pd.read_csv(\"../data/similarity.csv\")\n",
    "# col = ['title', 'abstract', 'keyword', 'domain']\n",
    "# df[col].to_csv(\"../data/similarity.csv\", index=False)"
   ]
  },
  {
   "cell_type": "code",
   "execution_count": 42,
   "metadata": {},
   "outputs": [],
   "source": [
    "from sklearn.preprocessing import MinMaxScaler\n",
    "from sklearn.preprocessing import StandardScaler"
   ]
  },
  {
   "cell_type": "code",
   "execution_count": 25,
   "metadata": {},
   "outputs": [
    {
     "data": {
      "text/plain": [
       "count    1.408521e+06\n",
       "mean     9.945888e-01\n",
       "std      3.809537e-03\n",
       "min      7.968738e-01\n",
       "25%      9.932526e-01\n",
       "50%      9.954783e-01\n",
       "75%      9.969792e-01\n",
       "max      1.000000e+00\n",
       "Name: domain, dtype: float64"
      ]
     },
     "execution_count": 25,
     "metadata": {},
     "output_type": "execute_result"
    }
   ],
   "source": [
    "df['domain'].describe()"
   ]
  },
  {
   "cell_type": "code",
   "execution_count": 43,
   "metadata": {},
   "outputs": [],
   "source": [
    "mscaler = MinMaxScaler()\n",
    "mres = mscaler.fit_transform(df['domain'].to_numpy().reshape(-1, 1))\n",
    "sscaler = StandardScaler()\n",
    "sres = sscaler.fit_transform(df['domain'].to_numpy().reshape(-1, 1))"
   ]
  },
  {
   "cell_type": "code",
   "execution_count": 55,
   "metadata": {},
   "outputs": [
    {
     "data": {
      "text/plain": [
       "<Axes: ylabel='Count'>"
      ]
     },
     "execution_count": 55,
     "metadata": {},
     "output_type": "execute_result"
    },
    {
     "data": {
      "image/png": "[encoded data removed]",
      "text/plain": [
       "<Figure size 640x480 with 1 Axes>"
      ]
     },
     "metadata": {},
     "output_type": "display_data"
    }
   ],
   "source": [
    "import seaborn as sns\n",
    "\n",
    "# sns.histplot(sres, color='red')\n",
    "sns.histplot(mres, color='blue')"
   ]
  },
  {
   "cell_type": "code",
   "execution_count": null,
   "metadata": {},
   "outputs": [],
   "source": []
  }
 ],
 "metadata": {
  "kernelspec": {
   "display_name": "msc_project",
   "language": "python",
   "name": "python3"
  },
  "language_info": {
   "codemirror_mode": {
    "name": "ipython",
    "version": 3
   },
   "file_extension": ".py",
   "mimetype": "text/x-python",
   "name": "python",
   "nbconvert_exporter": "python",
   "pygments_lexer": "ipython3",
   "version": "3.11.4"
  },
  "orig_nbformat": 4
 },
 "nbformat": 4,
 "nbformat_minor": 2
}

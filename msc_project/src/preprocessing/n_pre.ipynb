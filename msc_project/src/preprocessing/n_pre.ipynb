{
 "cells": [
  {
   "cell_type": "markdown",
   "id": "84ac01db-b55f-4aa5-ae8d-4b04ab1aee10",
   "metadata": {},
   "source": [
    "# package import"
   ]
  },
  {
   "cell_type": "code",
   "execution_count": 1,
   "id": "754bd635-5597-467a-bbba-c639796e337a",
   "metadata": {},
   "outputs": [],
   "source": [
    "import time\n",
    "import networkx as nx\n",
    "from pymongo import MongoClient\n",
    "import matplotlib.pyplot as plt"
   ]
  },
  {
   "cell_type": "markdown",
   "id": "27dc6d2e-0f9b-43e2-8fad-617c3aa6dc43",
   "metadata": {},
   "source": [
    "# connect MongoDB"
   ]
  },
  {
   "cell_type": "code",
   "execution_count": 4,
   "id": "38192787-e0d0-4ff6-8e76-834dba6ba9ea",
   "metadata": {},
   "outputs": [],
   "source": [
    "client = MongoClient('localhost', 27017)\n",
    "db = client['graph']\n",
    "citation = db['citation']"
   ]
  },
  {
   "cell_type": "markdown",
   "id": "82be7c6d-44c3-4e1a-a74f-814022809c74",
   "metadata": {},
   "source": [
    "# Preprocessing"
   ]
  },
  {
   "cell_type": "markdown",
   "id": "36e1ecc5-2e3b-4591-9bd4-dce10bb18af4",
   "metadata": {},
   "source": [
    "## Filter Data"
   ]
  },
  {
   "cell_type": "code",
   "execution_count": 5,
   "id": "65c3c0b9-a9c8-4172-ae4d-7872d71a3422",
   "metadata": {},
   "outputs": [
    {
     "name": "stdout",
     "output_type": "stream",
     "text": [
      "FILTER START\n",
      "FILTER FINISH\n"
     ]
    }
   ],
   "source": [
    "##########\n",
    "# FILTER #\n",
    "##########\n",
    "print(\"FILTER START\")\n",
    "\n",
    "filter_query = { \"n_citation\": {\"$gt\": 100}, \"references\": {\"$exists\": True}, \"fos\": {\"$exists\": True} }\n",
    "filter_projection = { \"_id\": True, \"fos\": True }\n",
    "filter_result = citation.find(filter_query, filter_projection)\n",
    "\n",
    "filtered_nodes = [ doc[\"_id\"] for doc in filter_result if len(doc[\"fos\"]) != 0 ]\n",
    "\n",
    "print(\"FILTER FINISH\")"
   ]
  },
  {
   "cell_type": "markdown",
   "id": "9dec20c0-fd11-4b73-bf07-b354d4072e92",
   "metadata": {},
   "source": [
    "## Generate Edges"
   ]
  },
  {
   "cell_type": "code",
   "execution_count": null,
   "id": "49d4de0b-1887-4ca2-ac78-6387f1192667",
   "metadata": {},
   "outputs": [],
   "source": [
    "################################\n",
    "# Generate Edge List (BATCHED) #\n",
    "################################\n",
    "print(\"Generating Edge List START\")\n",
    "\n",
    "BATCH_SIZE = 20_000\n",
    "num_filtered_nodes = len(filtered_nodes)\n",
    "n_iter = num_filtered_nodes//BATCH_SIZE\n",
    "edges_set = set()\n",
    "idx = 1\n",
    "\n",
    "for it in range(n_iter+1):\n",
    "    if it < n_iter:\n",
    "        batched_filtered_nodes = filtered_nodes[it*BATCH_SIZE:(it+1)*BATCH_SIZE]\n",
    "    else:\n",
    "        batched_filtered_nodes = filtered_nodes[it*BATCH_SIZE:]\n",
    "\n",
    "    edge_result = citation.find({ \"_id\": {\"$in\": batched_filtered_nodes} }, { \"references\": 1 })\n",
    "    for res_doc in edge_result:\n",
    "        start = time.time()\n",
    "        satisfied_references = citation.find({ \"_id\": {\"$in\": res_doc[\"references\"]}, \"n_citation\": {\"$gt\": 100}, \"references\": {\"$exists\": True}, \"fos\": {\"$exists\": True} }, { \"_id\": 1 })\n",
    "\n",
    "        for reference in satisfied_references:\n",
    "            edges_set.add((res_doc[\"_id\"], reference[\"_id\"]))\n",
    "\n",
    "        end = time.time()\n",
    "\n",
    "        if (idx/num_filtered_nodes*100) % 10 < 0.01:\n",
    "            print(f\"{idx}/{num_filtered_nodes} [{idx/num_filtered_nodes*100:.2f}%] - time [{end-start:.5f} s/p]\")\n",
    "\n",
    "        idx += 1\n",
    "edges_list = list(edges_set)\n",
    "\n",
    "print(\"Generating Edge List FINISH\")"
   ]
  },
  {
   "cell_type": "code",
   "execution_count": null,
   "id": "87aff96b-670f-4df1-b278-c79421bfcf17",
   "metadata": {},
   "outputs": [],
   "source": [
    "######################\n",
    "# Generate Edge List #\n",
    "######################\n",
    "print(\"Generating Edge List START\")\n",
    "\n",
    "# num_filtered_nodes = len(filtered_nodes)\n",
    "# n_iter = num_filtered_nodes//BATCH_SIZE\n",
    "# idx = 1\n",
    "edges_set = set()\n",
    "\n",
    "edge_result = citation.find({ \"_id\": {\"$in\": filtered_nodes} }, { \"references\": 1 })\n",
    "for res_doc in edge_result:\n",
    "    # start = time.time()\n",
    "    satisfied_references = citation.find({ \"_id\": {\"$in\": res_doc[\"references\"]}, \"n_citation\": {\"$gt\": 100}, \"references\": {\"$exists\": True}, \"fos\": {\"$exists\": True} }, { \"_id\": 1 })\n",
    "\n",
    "    for reference in satisfied_references:\n",
    "        edges_set.add((res_doc[\"_id\"], reference[\"_id\"]))\n",
    "\n",
    "    # end = time.time()\n",
    "\n",
    "    # if (idx/num_filtered_nodes*100) % 10 < 0.01:\n",
    "    #     print(f\"{idx}/{num_filtered_nodes} [{idx/num_filtered_nodes*100:.2f}%] - time [{end-start:.5f} s/p]\")\n",
    "\n",
    "    # idx += 1\n",
    "edges_list = list(edges_set)\n",
    "\n",
    "print(\"Generating Edge List FINISH\")"
   ]
  },
  {
   "cell_type": "code",
   "execution_count": 6,
   "id": "f1201cac-54a6-4362-88f8-c0b0bac03fd2",
   "metadata": {},
   "outputs": [
    {
     "name": "stdout",
     "output_type": "stream",
     "text": [
      "Generating Edge List START\n",
      "Generating Edge List FINISH\n"
     ]
    }
   ],
   "source": [
    "######################\n",
    "# Generate Edge List #\n",
    "######################\n",
    "print(\"Generating Edge List START\")\n",
    "\n",
    "edges_set = set()\n",
    "edge_result = citation.find({ \"_id\": {\"$in\": filtered_nodes} }, { \"references\": 1 })\n",
    "for res_doc in edge_result:\n",
    "    satisfied_references = citation.find({ \"_id\": {\"$in\": res_doc[\"references\"]}, \"n_citation\": {\"$gt\": 100}, \"references\": {\"$exists\": True}, \"fos\": {\"$exists\": True} }, { \"_id\": 1 })\n",
    "\n",
    "    for reference in satisfied_references:\n",
    "        edges_set.add((res_doc[\"_id\"], reference[\"_id\"]))\n",
    "\n",
    "edges_list = list(edges_set)\n",
    "\n",
    "print(\"Generating Edge List FINISH\")"
   ]
  },
  {
   "cell_type": "markdown",
   "id": "da410cad-c932-45bb-a8ce-bfa4f7df79fb",
   "metadata": {},
   "source": [
    "# Generate Graph using networkx"
   ]
  },
  {
   "cell_type": "code",
   "execution_count": 10,
   "id": "8b8f6d4f-ee8f-40e7-b249-4a8bb329fed3",
   "metadata": {},
   "outputs": [],
   "source": [
    "citation_network = nx.DiGraph()\n",
    "citation_network.add_edges_from(edges_list)"
   ]
  },
  {
   "cell_type": "code",
   "execution_count": null,
   "id": "18018348-58e5-4729-93ea-ce5ab645aab5",
   "metadata": {},
   "outputs": [
    {
     "name": "stdout",
     "output_type": "stream",
     "text": [
      "Degree Centrality Top 5: [('599c7f08601a182cd28e5abd', 0.010477581439383007), ('53e9986eb7602d97020ab93b', 0.01026398887009531), ('53e9a95db7602d97032b5715', 0.006829189445063414), ('53e9b587b7602d97040c7931', 0.00680032558434886), ('573696026e3b12023e515eec', 0.006523232521489145)]\n"
     ]
    }
   ],
   "source": [
    "from collections import Counter\n",
    "\n",
    "dc = nx.degree_centrality(citation_network)\n",
    "dc_top5 = Counter(dc).most_common(5)\n",
    "print(f\"Degree Centrality Top 5: {dc_top5}\")\n",
    "\n",
    "cc = nx.closeness_centrality(citation_network)\n",
    "cc_top5 = Counter(cc).most_common(5)\n",
    "print(f\"Closeness Centrality Top 5: {cc_top5}\")\n",
    "\n",
    "bc = nx.betweenness_centrality(citation_network)\n",
    "bc_top5 = Counter(bc).most_common(5)\n",
    "print(f\"Degree Centrality Top 5: {bc_top5}\")"
   ]
  },
  {
   "cell_type": "code",
   "execution_count": null,
   "id": "412ac0b2-5b62-46a7-8b16-af5538e874eb",
   "metadata": {},
   "outputs": [],
   "source": []
  },
  {
   "cell_type": "code",
   "execution_count": null,
   "id": "3945990f-ac43-479f-a12d-9cf1400f204a",
   "metadata": {},
   "outputs": [],
   "source": []
  }
 ],
 "metadata": {
  "kernelspec": {
   "display_name": "Python 3 (ipykernel)",
   "language": "python",
   "name": "python3"
  },
  "language_info": {
   "codemirror_mode": {
    "name": "ipython",
    "version": 3
   },
   "file_extension": ".py",
   "mimetype": "text/x-python",
   "name": "python",
   "nbconvert_exporter": "python",
   "pygments_lexer": "ipython3",
   "version": "3.10.12"
  }
 },
 "nbformat": 4,
 "nbformat_minor": 5
}

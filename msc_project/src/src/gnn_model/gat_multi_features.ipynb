{
 "cells": [
  {
   "cell_type": "code",
   "execution_count": null,
   "metadata": {},
   "outputs": [],
   "source": [
    "import torch\n",
    "import torch.nn as nn\n",
    "import torch.nn.functional as F\n",
    "from sklearn.metrics.pairwise import cosine_similarity\n",
    "import dgl\n",
    "from dgl.nn import GATConv"
   ]
  },
  {
   "cell_type": "code",
   "execution_count": null,
   "metadata": {},
   "outputs": [],
   "source": [
    "import os\n",
    "import pandas as pd\n",
    "import numpy as np"
   ]
  },
  {
   "cell_type": "code",
   "execution_count": null,
   "metadata": {},
   "outputs": [],
   "source": [
    "device = torch.device(\"cuda\" if torch.cuda.is_available() else \"cpu\")\n",
    "# if device == \"cpu\":\n",
    "#     print(\"device CPU\")\n",
    "#     exit(0)"
   ]
  },
  {
   "cell_type": "code",
   "execution_count": null,
   "metadata": {},
   "outputs": [],
   "source": [
    "DATA_HOME = \"/lyceum/jhk1c21/msc_project/data\"\n",
    "V14_PATH = os.path.join(DATA_HOME, \"graph\", \"v14\")\n",
    "FILTERED_PATH = os.path.join(V14_PATH, \"filtered\")"
   ]
  },
  {
   "cell_type": "code",
   "execution_count": null,
   "metadata": {},
   "outputs": [],
   "source": [
    "# Load the data\n",
    "nodes = pd.read_csv(os.path.join(V14_PATH, \"nodes_v14.csv\"), index_col='id')\n",
    "similarity = pd.read_csv(os.path.join(FILTERED_PATH, \"similarity_edges.csv\"))\n",
    "\n",
    "titles = np.load(os.path.join(FILTERED_PATH, 'title_embedding.npy'))\n",
    "abstracts = np.load(os.path.join(FILTERED_PATH, 'abstract_embedding.npy'))\n",
    "keywords = np.load(os.path.join(FILTERED_PATH, 'keywords_embedding.npy'))\n",
    "domains = np.load(os.path.join(FILTERED_PATH, 'domains_embedding.npy'))\n",
    "\n",
    "ids = np.load(os.path.join(FILTERED_PATH, \"filtered_id.npy\"))\n",
    "edges = np.load(os.path.join(FILTERED_PATH, 'filtered_edge.npy'))"
   ]
  },
  {
   "cell_type": "code",
   "execution_count": null,
   "metadata": {},
   "outputs": [],
   "source": [
    "df = pd.DataFrame()\n",
    "df['src'] = edges[:, 0]\n",
    "df['dst'] = edges[:, 1]\n",
    "\n",
    "# convert id from str to numbers\n",
    "id_to_int = {original_id: i for i, original_id in enumerate(ids)}\n",
    "int_to_id = {i: original_id for original_id, i in id_to_int.items()}\n",
    "\n",
    "df['src'] = df['src'].apply(lambda x: id_to_int[x])\n",
    "df['dst'] = df['dst'].apply(lambda x: id_to_int[x])"
   ]
  },
  {
   "cell_type": "code",
   "execution_count": null,
   "metadata": {},
   "outputs": [],
   "source": [
    "class MultiFeatureGAT(nn.Module):\n",
    "    def __init__(self, in_dims, hidden_dim, out_dim, num_heads):\n",
    "        super().__init__()\n",
    "        self.gat_layers = nn.ModuleList([\n",
    "            GATConv(in_dim, hidden_dim, num_heads) for in_dim in in_dims\n",
    "        ])\n",
    "        self.fc = nn.Linear(hidden_dim * num_heads * len(in_dims), out_dim)\n",
    "\n",
    "    def forward(self, graph, inputs):\n",
    "        hs = [gat_layer(graph, feature) for gat_layer, feature in zip(self.gat_layers, inputs)]\n",
    "        h = torch.cat(hs, dim=-1)\n",
    "        h = h.view(h.shape[0], -1)\n",
    "        h = self.fc(h)\n",
    "        return h\n"
   ]
  }
 ],
 "metadata": {
  "kernelspec": {
   "display_name": "msc",
   "language": "python",
   "name": "python3"
  },
  "language_info": {
   "name": "python",
   "version": "3.10.12"
  },
  "orig_nbformat": 4
 },
 "nbformat": 4,
 "nbformat_minor": 2
}

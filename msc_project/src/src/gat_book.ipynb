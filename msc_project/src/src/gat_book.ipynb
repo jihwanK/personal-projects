{
 "cells": [
  {
   "cell_type": "code",
   "execution_count": 1,
   "metadata": {},
   "outputs": [],
   "source": [
    "import torch\n",
    "import torch.nn as nn\n",
    "import torch.nn.functional as F\n",
    "from sklearn.metrics.pairwise import cosine_similarity\n",
    "import dgl\n",
    "from dgl.nn import GATConv"
   ]
  },
  {
   "cell_type": "code",
   "execution_count": 2,
   "metadata": {},
   "outputs": [],
   "source": [
    "import os\n",
    "import pandas as pd\n",
    "import numpy as np"
   ]
  },
  {
   "cell_type": "code",
   "execution_count": 3,
   "metadata": {},
   "outputs": [
    {
     "name": "stdout",
     "output_type": "stream",
     "text": [
      "cpu\n"
     ]
    }
   ],
   "source": [
    "device = torch.device(\"cuda\" if torch.cuda.is_available() else \"cpu\")\n",
    "print(device)"
   ]
  },
  {
   "cell_type": "code",
   "execution_count": 4,
   "metadata": {},
   "outputs": [],
   "source": [
    "DATA_HOME = \"/lyceum/jhk1c21/msc_project/data\"\n",
    "FILTERED_PATH = os.path.join(DATA_HOME, \"graph\", \"filtered\")"
   ]
  },
  {
   "cell_type": "code",
   "execution_count": 5,
   "metadata": {},
   "outputs": [],
   "source": [
    "# Load the data\n",
    "titles = np.load(os.path.join(FILTERED_PATH, 'filtered_title.npy'))\n",
    "abstracts = np.load(os.path.join(FILTERED_PATH, 'filtered_abstract.npy'))\n",
    "keywords = np.load(os.path.join(FILTERED_PATH, 'filtered_keyword.npy'))\n",
    "domains = np.load(os.path.join(FILTERED_PATH, 'filtered_domain.npy'))\n",
    "\n",
    "ids = np.load(os.path.join(FILTERED_PATH, \"filtered_id.npy\"))\n",
    "edges = np.load(os.path.join(FILTERED_PATH, 'filtered_edges.npy'))"
   ]
  },
  {
   "cell_type": "code",
   "execution_count": 6,
   "metadata": {},
   "outputs": [],
   "source": [
    "df = pd.DataFrame()\n",
    "df['src'] = edges[:, 0]\n",
    "df['des'] = edges[:, 1]\n",
    "\n",
    "# convert id from str to numbers\n",
    "id_to_int = {original_id: i for i, original_id in enumerate(ids)}\n",
    "int_to_id = {i: original_id for original_id, i in id_to_int.items()}\n",
    "\n",
    "df['src'] = df['src'].apply(lambda x: id_to_int[x])\n",
    "df['des'] = df['des'].apply(lambda x: id_to_int[x])"
   ]
  },
  {
   "cell_type": "code",
   "execution_count": 7,
   "metadata": {},
   "outputs": [],
   "source": [
    "# Create a DGL graph\n",
    "citation_network = dgl.graph( (df['src'], df['des']) )\n",
    "\n",
    "citation_network.ndata['title'] = torch.FloatTensor(titles)\n",
    "citation_network.ndata['abstract'] = torch.FloatTensor(abstracts)\n",
    "citation_network.ndata['keywords'] = torch.FloatTensor(keywords)\n",
    "citation_network.ndata['domain'] = torch.FloatTensor(domains)"
   ]
  },
  {
   "cell_type": "code",
   "execution_count": null,
   "metadata": {},
   "outputs": [],
   "source": [
    "# GAT Layer\n",
    "class GATLayer(nn.Module):\n",
    "    def __init__(self, in_dim, out_dim, num_heads):\n",
    "        super(GATLayer, self).__init__()\n",
    "        self.gatconv = GATConv(in_dim, out_dim, num_heads, allow_zero_in_degree=True)\n",
    "        \n",
    "    def forward(self, g, h):\n",
    "        h = self.gatconv(g, h)\n",
    "        return h.squeeze(1)\n",
    "\n",
    "# GAT Model\n",
    "class GATModel(nn.Module):\n",
    "    def __init__(self, in_dim, hidden_dim, out_dim, num_heads=1):\n",
    "        super(GATModel, self).__init__()\n",
    "        self.layer1 = GATLayer(in_dim, hidden_dim, num_heads)\n",
    "        self.layer2 = GATLayer(hidden_dim*num_heads, out_dim, 1)\n",
    "        \n",
    "    def forward(self, g, h):\n",
    "        h = F.dropout(g, p=0.6, training=self.training)\n",
    "        h = self.layer1()\n",
    "        h = F.relu(self.layer1(g, h))\n",
    "        h = self.layer2(g, h)\n",
    "        return h"
   ]
  },
  {
   "cell_type": "code",
   "execution_count": 14,
   "metadata": {},
   "outputs": [
    {
     "ename": "TypeError",
     "evalue": "eval() arg 1 must be a string, bytes or code object",
     "output_type": "error",
     "traceback": [
      "\u001b[0;31m---------------------------------------------------------------------------\u001b[0m",
      "\u001b[0;31mTypeError\u001b[0m                                 Traceback (most recent call last)",
      "Cell \u001b[0;32mIn[14], line 3\u001b[0m\n\u001b[1;32m      1\u001b[0m \u001b[39mwith\u001b[39;00m \u001b[39mopen\u001b[39m(os\u001b[39m.\u001b[39mpath\u001b[39m.\u001b[39mjoin(DATA_HOME, \u001b[39m\"\u001b[39m\u001b[39membedding\u001b[39m\u001b[39m\"\u001b[39m, \u001b[39m\"\u001b[39m\u001b[39mtmp\u001b[39m\u001b[39m\"\u001b[39m, \u001b[39m\"\u001b[39m\u001b[39mtmp_abstract_embedding_list_50.npy\u001b[39m\u001b[39m\"\u001b[39m)) \u001b[39mas\u001b[39;00m tmp:\n\u001b[1;32m      2\u001b[0m     res \u001b[39m=\u001b[39m [ rl\u001b[39m.\u001b[39mstrip() \u001b[39mfor\u001b[39;00m rl \u001b[39min\u001b[39;00m tmp\u001b[39m.\u001b[39mreadlines() ]\n\u001b[0;32m----> 3\u001b[0m \u001b[39meval\u001b[39;49m(res)\n",
      "\u001b[0;31mTypeError\u001b[0m: eval() arg 1 must be a string, bytes or code object"
     ]
    }
   ],
   "source": [
    "with open(os.path.join(DATA_HOME, \"embedding\", \"tmp\", \"tmp_abstract_embedding_list_50.npy\")) as tmp:\n",
    "    res = []\n",
    "    for rl in tmp.readlines():\n",
    "        res.extend(eval(rl.strip()))\n",
    "eval(res)"
   ]
  },
  {
   "cell_type": "code",
   "execution_count": 9,
   "metadata": {},
   "outputs": [
    {
     "data": {
      "text/plain": [
       "'/lyceum/jhk1c21/msc_project/data/embedding/tmp/tmp_abstract_embedding_list_50.npy'"
      ]
     },
     "execution_count": 9,
     "metadata": {},
     "output_type": "execute_result"
    }
   ],
   "source": []
  },
  {
   "cell_type": "code",
   "execution_count": null,
   "metadata": {},
   "outputs": [],
   "source": []
  }
 ],
 "metadata": {
  "kernelspec": {
   "display_name": "msc",
   "language": "python",
   "name": "python3"
  },
  "language_info": {
   "codemirror_mode": {
    "name": "ipython",
    "version": 3
   },
   "file_extension": ".py",
   "mimetype": "text/x-python",
   "name": "python",
   "nbconvert_exporter": "python",
   "pygments_lexer": "ipython3",
   "version": "3.10.12"
  },
  "orig_nbformat": 4
 },
 "nbformat": 4,
 "nbformat_minor": 2
}

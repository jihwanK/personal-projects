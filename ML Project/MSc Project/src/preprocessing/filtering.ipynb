{
 "cells": [
  {
   "cell_type": "code",
   "execution_count": 1,
   "metadata": {},
   "outputs": [],
   "source": [
    "import pandas as pd\n",
    "import numpy as np\n",
    "import os\n",
    "import re"
   ]
  },
  {
   "cell_type": "code",
   "execution_count": 2,
   "metadata": {},
   "outputs": [],
   "source": [
    "DATA_HOME = \"/lyceum/jhk1c21/msc_project/data\"\n",
    "FILTERED_DIR = os.path.join(DATA_HOME, \"graph\", \"filtered\")"
   ]
  },
  {
   "cell_type": "code",
   "execution_count": 15,
   "metadata": {},
   "outputs": [],
   "source": [
    "df = pd.read_csv(os.path.join(FILTERED_DIR, 'filtered_nodes.csv'))\n",
    "\n",
    "titles = np.load(os.path.join(FILTERED_DIR, 'title.npy'))\n",
    "abstracts = np.load(os.path.join(FILTERED_DIR, 'abstract.npy'))\n",
    "keywords = np.load(os.path.join(FILTERED_DIR, 'keywords.npy'))\n",
    "domains = np.load(os.path.join(FILTERED_DIR, 'domain_embedding.npy'))\n",
    "ids = np.load(os.path.join(FILTERED_DIR, \"id.npy\"))\n",
    "\n",
    "edges = np.load(os.path.join(FILTERED_DIR, \"n_citation\", 'edge_list_100.npy'))"
   ]
  },
  {
   "cell_type": "code",
   "execution_count": 7,
   "metadata": {},
   "outputs": [],
   "source": [
    "filtered_df = df[df['_id'].isin(ids)].reset_index()\n",
    "keywords_list = list(map(eval, df['keywords']))"
   ]
  },
  {
   "cell_type": "code",
   "execution_count": 8,
   "metadata": {},
   "outputs": [],
   "source": [
    "def find_index_of_matching_lists_optimized(data, pattern):\n",
    "    matching_indices = []\n",
    "    pattern_re = re.compile(pattern)\n",
    "\n",
    "    for i, sublist in enumerate(data):\n",
    "        if all(pattern_re.search(element) for element in sublist):\n",
    "            matching_indices.append(i)\n",
    "            # print(sublist)\n",
    "    return matching_indices"
   ]
  },
  {
   "cell_type": "code",
   "execution_count": 9,
   "metadata": {},
   "outputs": [],
   "source": [
    "updated_pattern = r'^[A-Z][0-9]{1,2}$'\n",
    "matching_indices_optimized = find_index_of_matching_lists_optimized(keywords_list, updated_pattern)"
   ]
  },
  {
   "cell_type": "code",
   "execution_count": 10,
   "metadata": {},
   "outputs": [],
   "source": [
    "mask = np.ones(titles.shape[0], dtype=bool)\n",
    "mask[matching_indices_optimized] = False"
   ]
  },
  {
   "cell_type": "code",
   "execution_count": 11,
   "metadata": {},
   "outputs": [],
   "source": [
    "excluded_titles = titles[mask]\n",
    "excluded_abstracts = abstracts[mask]\n",
    "excluded_keywords = keywords[mask]\n",
    "excluded_domains = domains[mask]\n",
    "excluded_ids = ids[mask]"
   ]
  },
  {
   "cell_type": "code",
   "execution_count": null,
   "metadata": {},
   "outputs": [],
   "source": [
    "np.save(os.path.join(FILTERED_DIR, \"filtered_title.npy\"), excluded_titles)\n",
    "np.save(os.path.join(FILTERED_DIR, \"filtered_abstract.npy\"), excluded_abstracts)\n",
    "np.save(os.path.join(FILTERED_DIR, \"filtered_keyword.npy\"), excluded_keywords)\n",
    "np.save(os.path.join(FILTERED_DIR, \"filtered_domain.npy\"), excluded_domains)\n",
    "np.save(os.path.join(FILTERED_DIR, \"filtered_id.npy\"), excluded_ids)"
   ]
  },
  {
   "cell_type": "code",
   "execution_count": 12,
   "metadata": {},
   "outputs": [
    {
     "name": "stdout",
     "output_type": "stream",
     "text": [
      "147798\n",
      "147798\n",
      "147798\n",
      "147798\n",
      "147798\n"
     ]
    }
   ],
   "source": [
    "print(len(excluded_titles))\n",
    "print(len(excluded_abstracts))\n",
    "print(len(excluded_keywords))\n",
    "print(len(excluded_domains))\n",
    "print(len(excluded_ids))"
   ]
  },
  {
   "cell_type": "code",
   "execution_count": 13,
   "metadata": {},
   "outputs": [
    {
     "data": {
      "text/plain": [
       "146315"
      ]
     },
     "execution_count": 13,
     "metadata": {},
     "output_type": "execute_result"
    }
   ],
   "source": [
    "edges_id_a = set( [ id for id, _ in edges ] )\n",
    "edges_id_b = set( [ id for _, id in edges ] )\n",
    "union_edges = edges_id_a.union(edges_id_b)\n",
    "exc_id_set = set(excluded_ids)\n",
    "\n",
    "edges = list(union_edges.intersection(exc_id_set))\n",
    "len(edges)"
   ]
  },
  {
   "cell_type": "code",
   "execution_count": 16,
   "metadata": {},
   "outputs": [
    {
     "data": {
      "text/plain": [
       "1408521"
      ]
     },
     "execution_count": 16,
     "metadata": {},
     "output_type": "execute_result"
    }
   ],
   "source": [
    "excluded_edges = [ (src, des) for src, des in edges if (src in excluded_ids) and (des in excluded_ids) ]\n",
    "# for src, des in edges:\n",
    "#     if (src in excluded_ids) and (des in excluded_ids):\n",
    "#         excluded_edges.append( (src, des) )\n",
    "len(excluded_edges)"
   ]
  },
  {
   "cell_type": "code",
   "execution_count": 17,
   "metadata": {},
   "outputs": [],
   "source": [
    "np.save(os.path.join(FILTERED_DIR, \"filtered_edges.npy\"), excluded_edges)"
   ]
  },
  {
   "cell_type": "code",
   "execution_count": null,
   "metadata": {},
   "outputs": [],
   "source": []
  }
 ],
 "metadata": {
  "kernelspec": {
   "display_name": "msc",
   "language": "python",
   "name": "python3"
  },
  "language_info": {
   "codemirror_mode": {
    "name": "ipython",
    "version": 3
   },
   "file_extension": ".py",
   "mimetype": "text/x-python",
   "name": "python",
   "nbconvert_exporter": "python",
   "pygments_lexer": "ipython3",
   "version": "3.10.12"
  },
  "orig_nbformat": 4
 },
 "nbformat": 4,
 "nbformat_minor": 2
}

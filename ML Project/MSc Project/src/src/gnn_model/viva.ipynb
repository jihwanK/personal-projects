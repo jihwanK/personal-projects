{
 "cells": [
  {
   "cell_type": "code",
   "execution_count": 1,
   "metadata": {},
   "outputs": [],
   "source": [
    "import numpy as np\n",
    "import pandas as pd\n",
    "import os\n",
    "\n",
    "import dgl\n",
    "import torch\n",
    "import torch.nn as nn\n",
    "from dgl.nn import GATv2Conv\n",
    "import torch.nn.functional as F\n",
    "\n",
    "from sklearn.metrics.pairwise import cosine_similarity"
   ]
  },
  {
   "cell_type": "code",
   "execution_count": 7,
   "metadata": {},
   "outputs": [],
   "source": [
    "import seaborn as sns\n",
    "import matplotlib.pyplot as plt"
   ]
  },
  {
   "cell_type": "code",
   "execution_count": 45,
   "metadata": {},
   "outputs": [],
   "source": [
    "DATA_HOME = \"/lyceum/jhk1c21/msc_project/data\"\n",
    "V14_PATH = os.path.join(DATA_HOME, \"graph\", \"v14\")\n",
    "FILTERED_PATH = os.path.join(V14_PATH, \"filtered\")\n",
    "output_dir = '/lyceum/jhk1c21/msc_project/batch'"
   ]
  },
  {
   "cell_type": "code",
   "execution_count": 46,
   "metadata": {},
   "outputs": [],
   "source": [
    "# Load the data\n",
    "nodes = pd.read_csv(os.path.join(V14_PATH, \"nodes_v14.csv\"), index_col='id')\n",
    "similarity = pd.read_csv(os.path.join(FILTERED_PATH, \"similarity_edges.csv\"))\n",
    "\n",
    "titles = np.load(os.path.join(FILTERED_PATH, 'title_embedding.npy'))\n",
    "abstracts = np.load(os.path.join(FILTERED_PATH, 'abstract_embedding.npy'))\n",
    "keywords = np.load(os.path.join(FILTERED_PATH, 'keywords_embedding.npy'))\n",
    "domains = np.load(os.path.join(FILTERED_PATH, 'domains_embedding.npy'))\n",
    "\n",
    "ids = np.load(os.path.join(FILTERED_PATH, \"filtered_id.npy\"))\n",
    "edges = np.load(os.path.join(FILTERED_PATH, 'filtered_edge.npy'))"
   ]
  },
  {
   "cell_type": "code",
   "execution_count": 47,
   "metadata": {},
   "outputs": [],
   "source": [
    "edge_df = pd.DataFrame()\n",
    "edge_df['src'] = edges[:, 0]\n",
    "edge_df['dst'] = edges[:, 1]\n",
    "\n",
    "# convert id from str to numbers\n",
    "id_to_int = {original_id: i for i, original_id in enumerate(ids)}\n",
    "int_to_id = {i: original_id for original_id, i in id_to_int.items()}\n",
    "\n",
    "edge_df['src'] = edge_df['src'].apply(lambda x: id_to_int[x])\n",
    "edge_df['dst'] = edge_df['dst'].apply(lambda x: id_to_int[x])"
   ]
  },
  {
   "cell_type": "code",
   "execution_count": 48,
   "metadata": {},
   "outputs": [],
   "source": [
    "node_features = np.concatenate([titles, abstracts, keywords, domains], axis=1)\n",
    "tensor_node_features = torch.FloatTensor(node_features)\n",
    "\n",
    "citation_network = dgl.graph((edge_df['src'].to_numpy(), edge_df['dst'].to_numpy()))\n",
    "citation_network.ndata['features'] = torch.tensor(node_features, dtype=torch.float32)"
   ]
  },
  {
   "cell_type": "code",
   "execution_count": 49,
   "metadata": {},
   "outputs": [],
   "source": [
    "df = pd.read_csv(os.path.join(FILTERED_PATH, \"trained_sim.csv\"))\n",
    "out = torch.load(os.path.join(output_dir, 'result.pt'))"
   ]
  },
  {
   "cell_type": "code",
   "execution_count": 50,
   "metadata": {},
   "outputs": [],
   "source": [
    "similarity['src'] =similarity['src'].apply(lambda x: id_to_int[x])\n",
    "similarity['dst'] =similarity['dst'].apply(lambda x: id_to_int[x])"
   ]
  },
  {
   "cell_type": "code",
   "execution_count": 51,
   "metadata": {},
   "outputs": [],
   "source": [
    "w1, w2, w3, w4 = 0.2, 0.2, 0.2, 0.4\n",
    "df['org_sim'] = w1*similarity['title'] + w2*similarity['abstract'] + w3*similarity['keyword'] + w4*similarity['domain']"
   ]
  },
  {
   "cell_type": "code",
   "execution_count": 52,
   "metadata": {},
   "outputs": [],
   "source": [
    "df['diff'] = df['sim'] - df['org_sim']"
   ]
  },
  {
   "cell_type": "code",
   "execution_count": 53,
   "metadata": {},
   "outputs": [
    {
     "data": {
      "text/html": [
       "<div>\n",
       "<style scoped>\n",
       "    .dataframe tbody tr th:only-of-type {\n",
       "        vertical-align: middle;\n",
       "    }\n",
       "\n",
       "    .dataframe tbody tr th {\n",
       "        vertical-align: top;\n",
       "    }\n",
       "\n",
       "    .dataframe thead th {\n",
       "        text-align: right;\n",
       "    }\n",
       "</style>\n",
       "<table border=\"1\" class=\"dataframe\">\n",
       "  <thead>\n",
       "    <tr style=\"text-align: right;\">\n",
       "      <th></th>\n",
       "      <th>src</th>\n",
       "      <th>dst</th>\n",
       "      <th>sim</th>\n",
       "      <th>org_sim</th>\n",
       "      <th>diff</th>\n",
       "    </tr>\n",
       "  </thead>\n",
       "  <tbody>\n",
       "    <tr>\n",
       "      <th>0</th>\n",
       "      <td>14961</td>\n",
       "      <td>42725</td>\n",
       "      <td>0.984479</td>\n",
       "      <td>0.424087</td>\n",
       "      <td>0.560393</td>\n",
       "    </tr>\n",
       "    <tr>\n",
       "      <th>1</th>\n",
       "      <td>33767</td>\n",
       "      <td>141985</td>\n",
       "      <td>0.930674</td>\n",
       "      <td>0.706678</td>\n",
       "      <td>0.223996</td>\n",
       "    </tr>\n",
       "    <tr>\n",
       "      <th>2</th>\n",
       "      <td>64675</td>\n",
       "      <td>132132</td>\n",
       "      <td>0.818782</td>\n",
       "      <td>0.621357</td>\n",
       "      <td>0.197425</td>\n",
       "    </tr>\n",
       "    <tr>\n",
       "      <th>3</th>\n",
       "      <td>102146</td>\n",
       "      <td>98155</td>\n",
       "      <td>0.786727</td>\n",
       "      <td>0.611837</td>\n",
       "      <td>0.174889</td>\n",
       "    </tr>\n",
       "    <tr>\n",
       "      <th>4</th>\n",
       "      <td>118623</td>\n",
       "      <td>112343</td>\n",
       "      <td>0.958769</td>\n",
       "      <td>0.757628</td>\n",
       "      <td>0.201141</td>\n",
       "    </tr>\n",
       "    <tr>\n",
       "      <th>...</th>\n",
       "      <td>...</td>\n",
       "      <td>...</td>\n",
       "      <td>...</td>\n",
       "      <td>...</td>\n",
       "      <td>...</td>\n",
       "    </tr>\n",
       "    <tr>\n",
       "      <th>1273170</th>\n",
       "      <td>69751</td>\n",
       "      <td>63337</td>\n",
       "      <td>0.966002</td>\n",
       "      <td>0.618167</td>\n",
       "      <td>0.347835</td>\n",
       "    </tr>\n",
       "    <tr>\n",
       "      <th>1273171</th>\n",
       "      <td>65311</td>\n",
       "      <td>59922</td>\n",
       "      <td>0.974722</td>\n",
       "      <td>0.514026</td>\n",
       "      <td>0.460696</td>\n",
       "    </tr>\n",
       "    <tr>\n",
       "      <th>1273172</th>\n",
       "      <td>156811</td>\n",
       "      <td>12704</td>\n",
       "      <td>0.313755</td>\n",
       "      <td>0.668000</td>\n",
       "      <td>-0.354244</td>\n",
       "    </tr>\n",
       "    <tr>\n",
       "      <th>1273173</th>\n",
       "      <td>155283</td>\n",
       "      <td>108435</td>\n",
       "      <td>0.737572</td>\n",
       "      <td>0.614611</td>\n",
       "      <td>0.122961</td>\n",
       "    </tr>\n",
       "    <tr>\n",
       "      <th>1273174</th>\n",
       "      <td>112935</td>\n",
       "      <td>95122</td>\n",
       "      <td>0.827979</td>\n",
       "      <td>0.625634</td>\n",
       "      <td>0.202345</td>\n",
       "    </tr>\n",
       "  </tbody>\n",
       "</table>\n",
       "<p>1273175 rows × 5 columns</p>\n",
       "</div>"
      ],
      "text/plain": [
       "            src     dst       sim   org_sim      diff\n",
       "0         14961   42725  0.984479  0.424087  0.560393\n",
       "1         33767  141985  0.930674  0.706678  0.223996\n",
       "2         64675  132132  0.818782  0.621357  0.197425\n",
       "3        102146   98155  0.786727  0.611837  0.174889\n",
       "4        118623  112343  0.958769  0.757628  0.201141\n",
       "...         ...     ...       ...       ...       ...\n",
       "1273170   69751   63337  0.966002  0.618167  0.347835\n",
       "1273171   65311   59922  0.974722  0.514026  0.460696\n",
       "1273172  156811   12704  0.313755  0.668000 -0.354244\n",
       "1273173  155283  108435  0.737572  0.614611  0.122961\n",
       "1273174  112935   95122  0.827979  0.625634  0.202345\n",
       "\n",
       "[1273175 rows x 5 columns]"
      ]
     },
     "execution_count": 53,
     "metadata": {},
     "output_type": "execute_result"
    }
   ],
   "source": [
    "df"
   ]
  },
  {
   "cell_type": "code",
   "execution_count": 54,
   "metadata": {},
   "outputs": [
    {
     "data": {
      "text/html": [
       "<div>\n",
       "<style scoped>\n",
       "    .dataframe tbody tr th:only-of-type {\n",
       "        vertical-align: middle;\n",
       "    }\n",
       "\n",
       "    .dataframe tbody tr th {\n",
       "        vertical-align: top;\n",
       "    }\n",
       "\n",
       "    .dataframe thead th {\n",
       "        text-align: right;\n",
       "    }\n",
       "</style>\n",
       "<table border=\"1\" class=\"dataframe\">\n",
       "  <thead>\n",
       "    <tr style=\"text-align: right;\">\n",
       "      <th></th>\n",
       "      <th>src</th>\n",
       "      <th>dst</th>\n",
       "      <th>sim</th>\n",
       "      <th>org_sim</th>\n",
       "      <th>diff</th>\n",
       "    </tr>\n",
       "  </thead>\n",
       "  <tbody>\n",
       "    <tr>\n",
       "      <th>152668</th>\n",
       "      <td>102266</td>\n",
       "      <td>49694</td>\n",
       "      <td>0.981489</td>\n",
       "      <td>0.205964</td>\n",
       "      <td>7.755246e-01</td>\n",
       "    </tr>\n",
       "    <tr>\n",
       "      <th>836615</th>\n",
       "      <td>109965</td>\n",
       "      <td>49694</td>\n",
       "      <td>0.947942</td>\n",
       "      <td>0.201236</td>\n",
       "      <td>7.467055e-01</td>\n",
       "    </tr>\n",
       "    <tr>\n",
       "      <th>384072</th>\n",
       "      <td>34169</td>\n",
       "      <td>71860</td>\n",
       "      <td>0.957934</td>\n",
       "      <td>0.223899</td>\n",
       "      <td>7.340356e-01</td>\n",
       "    </tr>\n",
       "    <tr>\n",
       "      <th>1104478</th>\n",
       "      <td>42498</td>\n",
       "      <td>49694</td>\n",
       "      <td>0.982493</td>\n",
       "      <td>0.259533</td>\n",
       "      <td>7.229599e-01</td>\n",
       "    </tr>\n",
       "    <tr>\n",
       "      <th>765947</th>\n",
       "      <td>128937</td>\n",
       "      <td>94944</td>\n",
       "      <td>0.947471</td>\n",
       "      <td>0.227589</td>\n",
       "      <td>7.198817e-01</td>\n",
       "    </tr>\n",
       "    <tr>\n",
       "      <th>...</th>\n",
       "      <td>...</td>\n",
       "      <td>...</td>\n",
       "      <td>...</td>\n",
       "      <td>...</td>\n",
       "      <td>...</td>\n",
       "    </tr>\n",
       "    <tr>\n",
       "      <th>437104</th>\n",
       "      <td>132935</td>\n",
       "      <td>132935</td>\n",
       "      <td>1.000000</td>\n",
       "      <td>1.000000</td>\n",
       "      <td>1.110223e-16</td>\n",
       "    </tr>\n",
       "    <tr>\n",
       "      <th>133160</th>\n",
       "      <td>12088</td>\n",
       "      <td>12088</td>\n",
       "      <td>1.000000</td>\n",
       "      <td>1.000000</td>\n",
       "      <td>1.110223e-16</td>\n",
       "    </tr>\n",
       "    <tr>\n",
       "      <th>830349</th>\n",
       "      <td>44999</td>\n",
       "      <td>44999</td>\n",
       "      <td>1.000000</td>\n",
       "      <td>1.000000</td>\n",
       "      <td>1.110223e-16</td>\n",
       "    </tr>\n",
       "    <tr>\n",
       "      <th>675109</th>\n",
       "      <td>120</td>\n",
       "      <td>120</td>\n",
       "      <td>1.000000</td>\n",
       "      <td>1.000000</td>\n",
       "      <td>1.110223e-16</td>\n",
       "    </tr>\n",
       "    <tr>\n",
       "      <th>1213372</th>\n",
       "      <td>140975</td>\n",
       "      <td>140975</td>\n",
       "      <td>1.000000</td>\n",
       "      <td>1.000000</td>\n",
       "      <td>1.110223e-16</td>\n",
       "    </tr>\n",
       "  </tbody>\n",
       "</table>\n",
       "<p>1016688 rows × 5 columns</p>\n",
       "</div>"
      ],
      "text/plain": [
       "            src     dst       sim   org_sim          diff\n",
       "152668   102266   49694  0.981489  0.205964  7.755246e-01\n",
       "836615   109965   49694  0.947942  0.201236  7.467055e-01\n",
       "384072    34169   71860  0.957934  0.223899  7.340356e-01\n",
       "1104478   42498   49694  0.982493  0.259533  7.229599e-01\n",
       "765947   128937   94944  0.947471  0.227589  7.198817e-01\n",
       "...         ...     ...       ...       ...           ...\n",
       "437104   132935  132935  1.000000  1.000000  1.110223e-16\n",
       "133160    12088   12088  1.000000  1.000000  1.110223e-16\n",
       "830349    44999   44999  1.000000  1.000000  1.110223e-16\n",
       "675109      120     120  1.000000  1.000000  1.110223e-16\n",
       "1213372  140975  140975  1.000000  1.000000  1.110223e-16\n",
       "\n",
       "[1016688 rows x 5 columns]"
      ]
     },
     "execution_count": 54,
     "metadata": {},
     "output_type": "execute_result"
    }
   ],
   "source": [
    "df[(df['diff'] > 0)].sort_values('diff', ascending=False)"
   ]
  },
  {
   "cell_type": "code",
   "execution_count": 55,
   "metadata": {},
   "outputs": [
    {
     "name": "stdout",
     "output_type": "stream",
     "text": [
      "0.7985453688613113\n",
      "0.20128968916291948\n"
     ]
    }
   ],
   "source": [
    "print(df[(df['diff'] > 0)].shape[0]/df.shape[0])\n",
    "print(df[(df['diff'] < 0)].shape[0]/df.shape[0])"
   ]
  },
  {
   "cell_type": "code",
   "execution_count": 56,
   "metadata": {},
   "outputs": [
    {
     "data": {
      "text/plain": [
       "id\n",
       "53e9a1f3b7602d9702af5839    [{'name': 'Rule-based machine translation', 'w...\n",
       "53e9addbb7602d97037e5b8d    [{'name': 'Sequence alignment', 'w': 0.42699},...\n",
       "Name: fos, dtype: object"
      ]
     },
     "execution_count": 56,
     "metadata": {},
     "output_type": "execute_result"
    }
   ],
   "source": [
    "src, dst = 34169, 71860\n",
    "# src, dst = 109965, 49694\n",
    "nodes.loc[[int_to_id[src], int_to_id[dst]]]['fos']"
   ]
  },
  {
   "cell_type": "code",
   "execution_count": 57,
   "metadata": {},
   "outputs": [
    {
     "data": {
      "text/html": [
       "<div>\n",
       "<style scoped>\n",
       "    .dataframe tbody tr th:only-of-type {\n",
       "        vertical-align: middle;\n",
       "    }\n",
       "\n",
       "    .dataframe tbody tr th {\n",
       "        vertical-align: top;\n",
       "    }\n",
       "\n",
       "    .dataframe thead th {\n",
       "        text-align: right;\n",
       "    }\n",
       "</style>\n",
       "<table border=\"1\" class=\"dataframe\">\n",
       "  <thead>\n",
       "    <tr style=\"text-align: right;\">\n",
       "      <th></th>\n",
       "      <th>src</th>\n",
       "      <th>dst</th>\n",
       "      <th>title</th>\n",
       "      <th>abstract</th>\n",
       "      <th>keyword</th>\n",
       "      <th>domain</th>\n",
       "    </tr>\n",
       "  </thead>\n",
       "  <tbody>\n",
       "    <tr>\n",
       "      <th>384072</th>\n",
       "      <td>34169</td>\n",
       "      <td>71860</td>\n",
       "      <td>0.305689</td>\n",
       "      <td>0.000482</td>\n",
       "      <td>0.445756</td>\n",
       "      <td>0.183783</td>\n",
       "    </tr>\n",
       "  </tbody>\n",
       "</table>\n",
       "</div>"
      ],
      "text/plain": [
       "          src    dst     title  abstract   keyword    domain\n",
       "384072  34169  71860  0.305689  0.000482  0.445756  0.183783"
      ]
     },
     "execution_count": 57,
     "metadata": {},
     "output_type": "execute_result"
    }
   ],
   "source": [
    "similarity[(similarity['src'] == src) & (similarity['dst'] == dst)]"
   ]
  },
  {
   "cell_type": "code",
   "execution_count": 60,
   "metadata": {},
   "outputs": [
    {
     "data": {
      "text/plain": [
       "tensor([[ 0.0543,  0.0342,  0.0269,  0.0622,  0.0453, -0.0804, -0.0600, -0.0300,\n",
       "         -0.0384, -0.0299, -0.0562, -0.0426, -0.0025, -0.0708, -0.0093, -0.0836,\n",
       "         -0.0748, -0.0090,  0.0127, -0.0534,  0.0455, -0.0714, -0.0107,  0.0928,\n",
       "          0.0662, -0.1196,  0.0626,  0.0310, -0.0128,  0.0307, -0.0024,  0.0289,\n",
       "          0.0153, -0.0360,  0.1663,  0.0008,  0.1805, -0.0446,  0.0554, -0.0539,\n",
       "         -0.0121, -0.1048,  0.3030,  0.0125, -0.0159, -0.0205,  0.0564,  0.1160,\n",
       "          0.0345, -0.0016],\n",
       "        [ 0.0127,  0.0693,  0.0307,  0.0484,  0.0642, -0.1278, -0.0630, -0.0434,\n",
       "         -0.0461, -0.0290, -0.0342,  0.0030,  0.0018, -0.0687, -0.0307, -0.1067,\n",
       "         -0.0718, -0.0138,  0.0267, -0.0633, -0.0085, -0.0996,  0.0236,  0.0870,\n",
       "          0.0710, -0.1301,  0.0730,  0.0180, -0.0226, -0.0130, -0.0193,  0.0545,\n",
       "          0.0068, -0.0592,  0.1737, -0.0041,  0.1769, -0.0403,  0.0521, -0.0582,\n",
       "         -0.0413, -0.0706,  0.2943,  0.0091, -0.0413,  0.0129,  0.0403,  0.1111,\n",
       "          0.0236,  0.0367]], grad_fn=<IndexBackward0>)"
      ]
     },
     "execution_count": 60,
     "metadata": {},
     "output_type": "execute_result"
    }
   ],
   "source": [
    "out[[src, dst]]"
   ]
  },
  {
   "cell_type": "code",
   "execution_count": null,
   "metadata": {},
   "outputs": [],
   "source": []
  }
 ],
 "metadata": {
  "kernelspec": {
   "display_name": "msc",
   "language": "python",
   "name": "python3"
  },
  "language_info": {
   "codemirror_mode": {
    "name": "ipython",
    "version": 3
   },
   "file_extension": ".py",
   "mimetype": "text/x-python",
   "name": "python",
   "nbconvert_exporter": "python",
   "pygments_lexer": "ipython3",
   "version": "3.10.12"
  },
  "orig_nbformat": 4
 },
 "nbformat": 4,
 "nbformat_minor": 2
}
